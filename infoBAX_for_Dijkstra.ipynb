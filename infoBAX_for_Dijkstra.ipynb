{
  "nbformat": 4,
  "nbformat_minor": 0,
  "metadata": {
    "colab": {
      "name": "infoBAX_for_Dijkstra.ipynb",
      "provenance": [],
      "collapsed_sections": []
    },
    "kernelspec": {
      "name": "python3",
      "display_name": "Python 3"
    },
    "language_info": {
      "name": "python"
    }
  },
  "cells": [
    {
      "cell_type": "markdown",
      "source": [
        "# Some preparation"
      ],
      "metadata": {
        "id": "avJNyQ2c-gLS"
      }
    },
    {
      "cell_type": "code",
      "metadata": {
        "id": "bK1KTV6Y3sHn",
        "collapsed": true
      },
      "source": [
        "#@title\n",
        "!pip install gpflow\n",
        "!pip install sortedcontainers \n",
        "!git clone https://github.com/j-wilson/GPflowSampling.git"
      ],
      "execution_count": 1,
      "outputs": []
    },
    {
      "cell_type": "code",
      "metadata": {
        "id": "UvS_ga5u3XEO"
      },
      "source": [
        "import numpy as np\n",
        "import tensorflow as tf\n",
        "import gpflow\n",
        "import matplotlib.pyplot as plt\n",
        "from matplotlib.collections import LineCollection as LC\n",
        "from sys import path as p\n",
        "\n",
        "p.insert(0, '/content/GPflowSampling')\n",
        "\n",
        "from gpflow.config import default_float\n",
        "from sortedcontainers import SortedList\n",
        "from gpflow_sampling.models import PathwiseGPR"
      ],
      "execution_count": 2,
      "outputs": []
    },
    {
      "cell_type": "code",
      "metadata": {
        "id": "UZ6uhHWAgudC"
      },
      "source": [
        "gpflow.config.set_default_float(np.float64)\n",
        "np.random.seed(7)\n",
        "tf.random.set_seed(7)"
      ],
      "execution_count": 3,
      "outputs": []
    },
    {
      "cell_type": "markdown",
      "metadata": {
        "id": "IKoRrXmPVKfh"
      },
      "source": [
        "# Creation of the graph"
      ]
    },
    {
      "cell_type": "markdown",
      "source": [
        "Create a grid-shaped graph of size $(\\textit{num_grid}, \\textit{num_grid})$"
      ],
      "metadata": {
        "id": "7R-SXY1xdkQ4"
      }
    },
    {
      "cell_type": "code",
      "metadata": {
        "id": "Kr4jeJsrjblO"
      },
      "source": [
        "class Vertex:\n",
        "    def __init__(self, ind: int, position: np.array, neighbors = None):\n",
        "        # A vertex has a unique number, its coordinates on the plane, and a list of its neighbors \n",
        "        self.ind = ind \n",
        "        self.position = position\n",
        "        self.neighbors = [] if neighbors is None else neighbors\n",
        "\n",
        "    def __repr__(self):\n",
        "        return f\"({self.ind}, {[n.ind for n in self.neighbors]})\"\n",
        "\n",
        "    def __lt__(self, other):\n",
        "        return self.position[0] < other.position[0]"
      ],
      "execution_count": 4,
      "outputs": []
    },
    {
      "cell_type": "code",
      "metadata": {
        "id": "QvGHTDlZksjw"
      },
      "source": [
        "def make_ver(is_edge: np.array, pos: np.array):\n",
        "    ver = [Vertex(i, p) for i, p in enumerate(pos)]\n",
        "    for i in range(pos.shape[0]):\n",
        "        for j in range(i + 1, pos.shape[0]):\n",
        "            if is_edge[i][j]:\n",
        "                ver[i].neighbors.append(ver[j])\n",
        "                ver[j].neighbors.append(ver[i])\n",
        "    return ver"
      ],
      "execution_count": 5,
      "outputs": []
    },
    {
      "cell_type": "code",
      "metadata": {
        "id": "D22jtiwcmWVR"
      },
      "source": [
        "def make_edge(ver):\n",
        "    edges = []\n",
        "    for v in ver:\n",
        "        for n in v.neighbors:\n",
        "            edges.append(((v.ind, v.position), (n.ind, n.position)))\n",
        "    return edges"
      ],
      "execution_count": 6,
      "outputs": []
    },
    {
      "cell_type": "code",
      "metadata": {
        "id": "PcJbPaJvVNTT"
      },
      "source": [
        "def make_grid(num_grid, x_lim = (-2, 2), y_lim = (-1, 4)):\n",
        "    x, y = np.meshgrid(\n",
        "        np.linspace(*x_lim, num_grid), np.linspace(*y_lim, num_grid)\n",
        "    )\n",
        "    positions = np.stack([x.flatten(), y.flatten()], axis = -1)\n",
        "    is_there_edge = [[False for _ in range(len(positions))] for _ in range(len(positions))]\n",
        "    # Connecting vertices in directions N, E, S, W, NW, NE, SW, SE\n",
        "    for i in range(len(positions)):\n",
        "        for j in range(i + 1, len(positions)):\n",
        "            if (j - i == 1 and j % num_grid != 0) or (j == i + num_grid):\n",
        "                is_there_edge[i][j] = True\n",
        "            elif (j == i + num_grid + 1 and i % num_grid != num_grid - 1) or (j == i + num_grid - 1 and i % num_grid != 0):\n",
        "                is_there_edge[i][j] = True\n",
        "    is_there_edge = np.array(is_there_edge)\n",
        "    vertices = make_ver(is_there_edge, positions)\n",
        "    edges = make_edge(vertices)\n",
        "\n",
        "    return positions, vertices, edges"
      ],
      "execution_count": 7,
      "outputs": []
    },
    {
      "cell_type": "markdown",
      "source": [
        "# A few more steps before infoBAX"
      ],
      "metadata": {
        "id": "mqS1bzB7HhKz"
      }
    },
    {
      "cell_type": "markdown",
      "source": [
        "We use the 2D Rosenbrock function rescaled by 10−2 as the edge cost function for the synthetic graph."
      ],
      "metadata": {
        "id": "iRjHVHFzdc5n"
      }
    },
    {
      "cell_type": "code",
      "metadata": {
        "id": "FdPzdvxuVLC9"
      },
      "source": [
        "def Rosenbrock(x, a = 1, b = 100):\n",
        "    return 0.01*((a - x[0])**2 + b*(x[1] - x[0]**2)**2) "
      ],
      "execution_count": 8,
      "outputs": []
    },
    {
      "cell_type": "markdown",
      "source": [
        "Useful transformations for GP, as they take values in $\\mathbb{R}$, not just in $\\mathbb{R}_+$."
      ],
      "metadata": {
        "id": "vM__C792_Xxl"
      }
    },
    {
      "cell_type": "code",
      "metadata": {
        "id": "JwJ7bmBuFnFb"
      },
      "source": [
        "def inv_soft(x):\n",
        "    return np.log(np.exp(x) - 1)\n",
        "\n",
        "def softplus(x):\n",
        "    return np.log(np.exp(x) + 1)\n",
        "\n",
        "def true_func(x):\n",
        "    return inv_soft(Rosenbrock(x))"
      ],
      "execution_count": 9,
      "outputs": []
    },
    {
      "cell_type": "markdown",
      "source": [
        "For a given path and a cost function $\\textit{func}$ you may compute its cost."
      ],
      "metadata": {
        "id": "-dy0Nr2qEYyO"
      }
    },
    {
      "cell_type": "code",
      "source": [
        "def cost_of_path(path, func):\n",
        "    value = 0\n",
        "    for e in path:\n",
        "        value += func(e)\n",
        "    return value"
      ],
      "metadata": {
        "id": "Ds1b4EE0t3Y4"
      },
      "execution_count": 10,
      "outputs": []
    },
    {
      "cell_type": "markdown",
      "source": [
        "Dijkstra algorithm"
      ],
      "metadata": {
        "id": "GnYXZh4ZMoLZ"
      }
    },
    {
      "cell_type": "code",
      "metadata": {
        "id": "vZCwHQHdruf-"
      },
      "source": [
        "class Dijkstra:\n",
        "    def __init__(self, ver):\n",
        "        self.ver = ver\n",
        "\n",
        "    def value(self, v, neigh, is_func = True):\n",
        "        if is_func:\n",
        "          return self.cost_func(np.sum([v.position, neigh.position], axis = 0)/2)\n",
        "        else:\n",
        "            ind_1, ind_2 = v.ind, neigh.ind\n",
        "            return self.cost_func[(ind_1, ind_2)] if ind_1 < ind_2 else self.cost_func[(ind_2, ind_1)] \n",
        "\n",
        "    def run_alg(self, start, end, cost_func, is_func = True):\n",
        "        self.cost_func = cost_func\n",
        "        self.start = self.ver[start]\n",
        "        self.end = self.ver[end]\n",
        "        n = len(self.ver)\n",
        "        dist = [float(\"inf\") for _ in range(n)]\n",
        "        prev = [None for _ in range(n)]\n",
        "        visited = [False for _ in range(n)]\n",
        "        s = SortedList()\n",
        "        dist[start] = 0\n",
        "        s.add((dist[start], self.start))\n",
        "        while len(s) != 0:\n",
        "            d, v = s.pop(0)\n",
        "            visited[v.ind] = True\n",
        "            for neigh in v.neighbors:\n",
        "                if visited[neigh.ind] == False:\n",
        "                    val = self.value(v, neigh, is_func)\n",
        "                    if dist[neigh.ind] > d + val:\n",
        "                        s.discard((dist[neigh.ind], neigh))\n",
        "                        dist[neigh.ind] = d + val\n",
        "                        prev[neigh.ind] = v.ind\n",
        "                        s.add((dist[neigh.ind], neigh))\n",
        "        if not is_func:\n",
        "            path = []\n",
        "            val = []\n",
        "            d = {}\n",
        "            ver_in_path = end\n",
        "            while ver_in_path != start:\n",
        "                v_1, v_2 = self.ver[ver_in_path], self.ver[prev[ver_in_path]]\n",
        "                # Here we restrict situations with diagonally crossing edges (it will cause problems to computing inverse matrix)\n",
        "                if d.get(v_1.ind + v_2.ind) is None:\n",
        "                    d[v_1.ind + v_2.ind] = 1\n",
        "                    value = np.sum([v_1.position, v_2.position], axis = 0)/2\n",
        "                    path.append(value)\n",
        "                    if v_1.ind < v_2.ind:\n",
        "                        val.append(self.cost_func[(v_1.ind, v_2.ind)])\n",
        "                    else:\n",
        "                        val.append(self.cost_func[(v_2.ind, v_1.ind)])\n",
        "                ver_in_path = prev[ver_in_path]\n",
        "            return dist[end], path, val\n",
        "        else:\n",
        "            path = []\n",
        "            ver_in_path = end\n",
        "            while ver_in_path != start:\n",
        "                v_1, v_2 = self.ver[ver_in_path], self.ver[prev[ver_in_path]]\n",
        "                value = np.sum([v_1.position, v_2.position], axis = 0)/2\n",
        "                path.append(value)\n",
        "                ver_in_path = prev[ver_in_path]\n",
        "            return dist[end], path\n"
      ],
      "execution_count": 11,
      "outputs": []
    },
    {
      "cell_type": "markdown",
      "metadata": {
        "id": "FHslu58aaw9R"
      },
      "source": [
        "#infoBAX"
      ]
    },
    {
      "cell_type": "markdown",
      "metadata": {
        "id": "gjMTUyyKHE98"
      },
      "source": [
        "Prepare initial data. "
      ]
    },
    {
      "cell_type": "code",
      "metadata": {
        "id": "Hnb0nd7NHD0S"
      },
      "source": [
        "# Number of requests to black-box function\n",
        "budget = 120\n",
        "# Initial number of objects in dataset\n",
        "init = 1\n",
        "# Number of samples for Monte Carlo\n",
        "num_samples = 30\n",
        "# Our grid: the position of each vertex; vertices (each contains its own index and position);\n",
        "# edges (in the form ((v1.ind, v1.position), (v2.ind, v2.position)), contain both (v1, v2) and (v2, v1))\n",
        "pos, ver, edges = make_grid(20)\n",
        "\n",
        "# redefining edges (assuming an edge is a position between the vertices it connects)\n",
        "new_edges = []\n",
        "for e in edges:\n",
        "    if e[0][0] < e[1][0]:\n",
        "        new_edges.append(((e[0][0], e[1][0]), np.sum([e[0][1], e[1][1]], axis = 0)/2))\n",
        "edge_loc = np.array([e[1] for e in new_edges])\n",
        "\n",
        "# randomly choose first init edges\n",
        "ind_of_first_edges = np.random.choice(range(len(edge_loc)), init)\n",
        "first_edges = [edge_loc[i] for i in ind_of_first_edges]\n",
        "\n",
        "# indices of edges which cost we've already have\n",
        "already_known = set(ind_of_first_edges)\n",
        "\n",
        "# hyperparameters for GP\n",
        "gp_params = {\n",
        "    \"var\": 3,\n",
        "    \"l\": 0.3,\n",
        "    \"noise\": 0.01\n",
        "}\n",
        "\n",
        "kernels = {\n",
        "    \"SE\": gpflow.kernels.SquaredExponential(variance=gp_params[\"var\"], lengthscales=gp_params[\"l\"]),\n",
        "    \"Matern32\": gpflow.kernels.Matern32(variance=gp_params[\"var\"], lengthscales=gp_params[\"l\"]),\n",
        "    \"Matern52\": gpflow.kernels.Matern52(variance=gp_params[\"var\"], lengthscales=gp_params[\"l\"])\n",
        "}\n",
        "\n",
        "# Initial dataset\n",
        "data = {\n",
        "    \"tf\": (tf.constant([e for e in first_edges]), tf.constant([[true_func(e)] for e in first_edges])), \n",
        "}\n",
        "\n",
        "# Our model (may choose another kernel)\n",
        "model = PathwiseGPR(data = data[\"tf\"], kernel = kernels[\"Matern52\"], noise_variance=gp_params[\"noise\"])\n",
        "\n",
        "#Dijkstra\n",
        "alg = Dijkstra(ver)"
      ],
      "execution_count": 12,
      "outputs": []
    },
    {
      "cell_type": "markdown",
      "metadata": {
        "id": "wqBZ1SRNULg3"
      },
      "source": [
        "Calculate the first term (entropy) for EIG."
      ]
    },
    {
      "cell_type": "code",
      "metadata": {
        "id": "CL_ww1KXT0QZ"
      },
      "source": [
        "def entropy(model, X, compute_cov = True):\n",
        "    num_ = X.shape[0]\n",
        "\n",
        "    # Covariance matrix determinant\n",
        "    if compute_cov is True:\n",
        "        # if there's a model\n",
        "        det = model.predict_f(X)[1].numpy().reshape(num_) + gp_params[\"noise\"]\n",
        "    else:\n",
        "        # if entropy was called from entropy_of_post_pred_distr()\n",
        "        det = [model[i][i] + gp_params[\"noise\"] for i in range(num_)]\n",
        "\n",
        "    for i in range(num_):\n",
        "        assert det[i] > 0\n",
        "    H = 1/2 + 1/2*np.log(2*np.pi) + [np.log(det[i])/2 for i in range(num_)]\n",
        "    return H"
      ],
      "execution_count": 13,
      "outputs": []
    },
    {
      "cell_type": "markdown",
      "metadata": {
        "id": "rPsuZ4CFPxWV"
      },
      "source": [
        "Let's start counting the second term: we begin with sampling from GP."
      ]
    },
    {
      "cell_type": "code",
      "metadata": {
        "id": "6TLKmJJgry09"
      },
      "source": [
        "# For each sample from num_samples contains the shortest path and values on the edges of this path\n",
        "def sample(model, num_samples):\n",
        "    paths = model.generate_paths(num_samples=num_samples, num_bases=1024)\n",
        "    model.set_paths(paths)\n",
        "    samples = model.predict_f_samples(tf.constant(edge_loc)).numpy().reshape((num_samples, -1))\n",
        "    sub_pathes = dict([(i, _) for i in range(num_samples)])\n",
        "    values = dict([(i, _) for i in range(num_samples)])\n",
        "\n",
        "    for i in range(num_samples):\n",
        "        func = dict([(new_edges[j][0], softplus(samples[i][j])) for j in range(len(new_edges))])\n",
        "        dist_, path_, val_ = alg.run_alg(380, 399, func, False)\n",
        "        sub_pathes[i] = np.array(path_)\n",
        "        values[i] = np.array(val_)\n",
        "\n",
        "    return sub_pathes, values"
      ],
      "execution_count": 14,
      "outputs": []
    },
    {
      "cell_type": "markdown",
      "metadata": {
        "id": "gYxs41E0bDoV"
      },
      "source": [
        "Now we calculate the entropy of $p(y_x|D_t,v_A)$."
      ]
    },
    {
      "cell_type": "code",
      "source": [
        "def entropy_of_post_pred_distr(X_new, ker, data, subseq):\n",
        "    data = (data[0].numpy(), data[1].numpy())\n",
        "    arr = np.concatenate((data[0], subseq))\n",
        "\n",
        "    k_T = ker(X_new, arr).numpy()\n",
        "    k_ = k_T.T\n",
        "\n",
        "    I = np.zeros((len(arr), len(arr)))\n",
        "    for i in range(len(data[0])):\n",
        "        I[i][i] = gp_params[\"noise\"]\n",
        "\n",
        "    K = ker(arr, arr).numpy()\n",
        "    K_inv = np.linalg.inv(K + I)\n",
        "\n",
        "    cov = ker(X_new, X_new).numpy() - k_T@K_inv@k_ + (gp_params[\"noise\"])**2*np.eye(X_new.shape[0])\n",
        "\n",
        "    return entropy(cov, X_new, compute_cov = False)"
      ],
      "metadata": {
        "id": "h2J9X-WkBElx"
      },
      "execution_count": 15,
      "outputs": []
    },
    {
      "cell_type": "markdown",
      "metadata": {
        "id": "8Um3LbNo9HXo"
      },
      "source": [
        "Putting EIG together."
      ]
    },
    {
      "cell_type": "code",
      "metadata": {
        "id": "Epq2BsRw9DCN"
      },
      "source": [
        "def EIG(x, data, model, num_sam):\n",
        "    first = entropy(model, X = x)\n",
        "    sub_s, values = sample(model, num_sam)\n",
        "    second = np.sum([entropy_of_post_pred_distr(x, model.kernel, data, sub_s[i]) for i in range(num_sam)], axis = 0)/num_sam\n",
        "    return first + second"
      ],
      "execution_count": 16,
      "outputs": []
    },
    {
      "cell_type": "markdown",
      "metadata": {
        "id": "z84KqTWuOMiw"
      },
      "source": [
        "Finally, InfoBAX."
      ]
    },
    {
      "cell_type": "code",
      "metadata": {
        "id": "LF_UPjxXCuEo",
        "collapsed": true
      },
      "source": [
        "for t in range(budget): \n",
        "    # print(t + 1, 'epoch')\n",
        "    sub_ed_first_edition = np.random.choice(range(len(edge_loc)), 100)\n",
        "    sub_ed = []\n",
        "    for i in sub_ed_first_edition:\n",
        "        if i not in already_known:\n",
        "            sub_ed.append(i)\n",
        "    X = np.array([edge_loc[i] for i in sub_ed])\n",
        "    # print('calculating EIG...')\n",
        "    ind = np.argmax(EIG(X, data[\"tf\"], model, num_samples)) \n",
        "\n",
        "    new_place_for_request = edge_loc[sub_ed[ind]]\n",
        "    new_val = true_func(new_place_for_request)\n",
        "    already_known.add(sub_ed[ind])\n",
        "    # print('updating dataset')\n",
        "    data[\"tf\"] = (tf.concat((data[\"tf\"][0], [new_place_for_request]), 0), tf.concat((data[\"tf\"][1], [[new_val]]), 0))\n",
        "    model = PathwiseGPR(data = data[\"tf\"], kernel = kernels['Matern52'], noise_variance=gp_params[\"noise\"])"
      ],
      "execution_count": 17,
      "outputs": []
    },
    {
      "cell_type": "markdown",
      "metadata": {
        "id": "CAomUsfuGpSO"
      },
      "source": [
        "Let's run Dijkstra on the true function."
      ]
    },
    {
      "cell_type": "code",
      "metadata": {
        "id": "JA1CJiLyGCPT"
      },
      "source": [
        "new_dist, new_path = alg.run_alg(380, 399, Rosenbrock)"
      ],
      "execution_count": 18,
      "outputs": []
    },
    {
      "cell_type": "code",
      "metadata": {
        "colab": {
          "base_uri": "https://localhost:8080/",
          "height": 269
        },
        "id": "linHtbIRGLJ9",
        "outputId": "cfcf51a5-9d2c-4b1d-8198-8c779af20563"
      },
      "source": [
        "path_x = [a[0] for a in new_path]\n",
        "path_y = [a[1] for a in new_path]\n",
        "sampled_paths, val = sample(model, 11)\n",
        "\n",
        "x = np.linspace(-2, 2, 20)\n",
        "y = np.linspace(-1, 4, 20)\n",
        "z = [[0 for _ in range(20)] for _ in range(20)]\n",
        "for i in range(20):\n",
        "    for j in range(20):\n",
        "        z[i][j] = Rosenbrock(pos[i*20 + j])\n",
        "h = plt.contourf(x, y, z, colors = ['#F5F1F8', '#F1E1FC', '#F0C5EE', '#E4BBE2', '#C9A5C8', '#A386A2', '#786277'])\n",
        "plt.plot(path_x, path_y, '-o', color = 'black', markersize=2)\n",
        "for i in range(11):\n",
        "    plt.plot([e[0] for e in sampled_paths[i]], [e[1] for e in sampled_paths[i]], '-o', color = '#3F15E8', linewidth = 0.2, markersize = 0.2)\n",
        "\n",
        "plt.axis('scaled')\n",
        "plt.show()"
      ],
      "execution_count": 21,
      "outputs": [
        {
          "output_type": "display_data",
          "data": {
            "image/png": "[encoded data removed]",
            "text/plain": [
              "<Figure size 432x288 with 1 Axes>"
            ]
          },
          "metadata": {
            "needs_background": "light"
          }
        }
      ]
    },
    {
      "cell_type": "markdown",
      "source": [
        "# Animation"
      ],
      "metadata": {
        "id": "s49vCkEkYMju"
      }
    },
    {
      "cell_type": "markdown",
      "source": [
        "Before running this code, make sure all initial data for infoBAX is updated"
      ],
      "metadata": {
        "id": "Ch-D8at2YlqA"
      }
    },
    {
      "cell_type": "code",
      "source": [
        "grid_size = 20\n",
        "x1_lims = (-2, 2)\n",
        "x2_lims = (-1, 4)\n",
        "positions, vertices, edges = make_grid(grid_size, x1_lims, x2_lims)\n",
        "edges_ = np.array([(e[0][1], e[1][1]) for e in edges])\n",
        "start, goal = vertices[-grid_size], vertices[-1]"
      ],
      "metadata": {
        "id": "_ymYIc-8RILL"
      },
      "execution_count": 19,
      "outputs": []
    },
    {
      "cell_type": "code",
      "source": [
        "def edges_of_path(path):\n",
        "    edges = []\n",
        "    for i in range(len(path) - 1):\n",
        "        edges.append((path[i], path[i + 1]))\n",
        "    return np.array(edges)\n",
        "\n",
        "def positions_of_path(path):\n",
        "    positions = [v[0][1] for v in path]\n",
        "    positions.append(path[-1][1][1])\n",
        "    return np.stack(positions)"
      ],
      "metadata": {
        "id": "EOXNHMPCcUfj"
      },
      "execution_count": 20,
      "outputs": []
    },
    {
      "cell_type": "code",
      "source": [
        "def plot_contourf(fig, ax, x1_lims, x2_lims):\n",
        "    x, y = np.meshgrid(np.linspace(*x1_lims), np.linspace(*x2_lims))\n",
        "    cs = ax.contourf(x, y, Rosenbrock((x, y)), colors = ['#F5F1F8', '#F1E1FC', '#F0C5EE', '#E4BBE2', '#C9A5C8', '#A386A2', '#786277'])\n",
        "    cbar = fig.colorbar(cs, ax=ax)\n",
        "\n",
        "def plot_graph(ax, edges, start, goal):\n",
        "    # plot edges\n",
        "    color = (0.75, 0.75, 0.75, 0.1)\n",
        "    lc = LC(edges, colors=[color] * len(edges), linewidths=1.0)\n",
        "    ax.add_collection(lc)\n",
        "\n",
        "    # plot vertices\n",
        "    ax.scatter(*positions.T, color=(0, 0, 0, 1), marker='.', facecolors='none', s=20)\n",
        "\n",
        "    # plot start and goal vertices\n",
        "    ax.scatter(*start.position, color='#FF530A', marker='s', label=\"Start\", s=150)\n",
        "    ax.scatter(*goal.position, color='#21FF65', marker='s', label=\"Goal\", s=150)\n",
        "\n",
        "    ax.grid(False)\n",
        "    return\n",
        "\n",
        "def plot_path(\n",
        "    ax,\n",
        "    path,\n",
        "    path_color=(0, 0, 0, 1.),\n",
        "    linewidths=2,\n",
        "    linestyle=\"dotted\",\n",
        "    plot_vertices=False,\n",
        "    label=None,\n",
        "):\n",
        "    # plot path taken\n",
        "    path_lines = edges_of_path(path)\n",
        "    path_lc = LC(\n",
        "        path_lines,\n",
        "        colors=[path_color] * len(path_lines),\n",
        "        linewidths=linewidths,\n",
        "        linestyle=linestyle,\n",
        "        label=label,\n",
        "    )\n",
        "    ax.add_collection(path_lc)\n",
        "\n",
        "    # plot visited vertices\n",
        "    if plot_vertices:\n",
        "        ax.scatter(*positions_of_path(path).T, color=(0, 0, 0, 1))\n",
        "    return"
      ],
      "metadata": {
        "id": "EEaGirxTazfu"
      },
      "execution_count": 21,
      "outputs": []
    },
    {
      "cell_type": "markdown",
      "source": [
        "$\\textit{file_name}$ is a file where all plots will be saved"
      ],
      "metadata": {
        "id": "aTfSBIw-Y7Qh"
      }
    },
    {
      "cell_type": "code",
      "source": [
        "for t in range(budget):\n",
        "    plt.close()\n",
        "    # Set model\n",
        "    model = PathwiseGPR(data = data[\"tf\"], kernel = kernels[\"Matern52\"], noise_variance=gp_params[\"noise\"])\n",
        "\n",
        "    # Set and optimize acquisition function\n",
        "    sub_ed_first_edition = np.random.choice(range(len(edge_loc)), 100)\n",
        "    sub_ed = []\n",
        "    for i in sub_ed_first_edition:\n",
        "        if i not in already_known:\n",
        "            sub_ed.append(i)\n",
        "    X = np.array([edge_loc[i] for i in sub_ed])\n",
        "    ind = np.argmax(EIG(X, data['tf'], model, num_samples))\n",
        "    new_place_for_request = edge_loc[sub_ed[ind]]\n",
        "    sampled_paths, val = sample(model, 11)\n",
        "    sampled_paths = [sampled_paths[j] for j in range(11)]\n",
        "\n",
        "    # print(f'Acq optimizer x_next = {new_place_for_request}')\n",
        "    # print(f'Finished iter i = {t + 1}')\n",
        "\n",
        "    fig, ax = plt.subplots(figsize=(8.9, 7)) # For square image, with colorbar\n",
        "\n",
        "    plot_contourf(fig, ax, x1_lims, x2_lims)\n",
        "\n",
        "    plot_graph(ax, edges_, start, goal)\n",
        "\n",
        "    plot_path(\n",
        "        ax,\n",
        "        new_path,\n",
        "        path_color=(0.2, 0.2, 0.2, 1),\n",
        "        linewidths=2,\n",
        "        linestyle='--',\n",
        "        label='True shortest path',\n",
        "    )\n",
        "\n",
        "    data_ = (data['tf'][0].numpy(), data['tf'][1].numpy())\n",
        "\n",
        "    for x in data_[0][:-1]:\n",
        "            ax.scatter(x[0], x[1], color=(0, 0, 0, 1), s=40)\n",
        "\n",
        "    ax.scatter(\n",
        "        data_[0][-1][0],\n",
        "        data_[0][-1][1],\n",
        "        color='#3F15E8',\n",
        "        s=60,\n",
        "        label='Next query',\n",
        "    )\n",
        "\n",
        "    ax.set(ylim=[-1.2, 4.2], xlim=[-2.2, 2.2]) \n",
        "\n",
        "    weight = 0.1 # NOTE can also do: 1 / acqfn.params.n_path\n",
        "    for path in sampled_paths:\n",
        "        plot_path(ax, path, path_color=(0, 0, 1, weight), linewidths=2, linestyle=\"-\")\n",
        "\n",
        "    # Plot title\n",
        "    ax.set_title(\"InfoBAX with Dijkstra's Algorithm\")\n",
        "\n",
        "    # Turn off ticks and labels\n",
        "    ax.set_xticks([])\n",
        "    ax.set_yticks([])\n",
        "    ax.set_xticklabels([])\n",
        "    ax.set_yticklabels([])\n",
        "\n",
        "    # Save plot\n",
        "    fig.savefig(f'file_name/image{t + 1}.png')\n",
        "\n",
        "    # Query function, update data\n",
        "    new_val = true_func(new_place_for_request)\n",
        "    already_known.add(sub_ed[ind])\n",
        "    data[\"tf\"] = (tf.concat((data[\"tf\"][0], [new_place_for_request]), 0), tf.concat((data[\"tf\"][1], [[new_val]]), 0))"
      ],
      "metadata": {
        "id": "-58FQqofYm8E"
      },
      "execution_count": 22,
      "outputs": []
    }
  ]
}